{
 "cells": [
  {
   "cell_type": "code",
   "execution_count": 1,
   "metadata": {},
   "outputs": [],
   "source": [
    "import pandas as pd\n",
    "from decimal import Decimal"
   ]
  },
  {
   "cell_type": "code",
   "execution_count": 2,
   "metadata": {},
   "outputs": [],
   "source": [
    "fakedata = {'departure_prices': [{'date': '2020-10-03', 'price': 'US$ 569.99'}, {'date': '2020-10-05', 'price': 'US$ 569.99'}, {'date': '2020-10-07', 'price': 'US$ 569.99'}, {'date': '2020-10-10', 'price': 'US$ 569.99'}, {'date': '2020-10-12', 'price': 'US$ 569.99'}, {'date': '2020-10-14', 'price': 'US$ 569.99'}, {'date': '2020-10-17', 'price': 'US$ 569.99'}, {'date': '2020-10-19', 'price': 'US$ 569.99'}, {'date': '2020-10-21', 'price': 'US$ 569.99'}, {'date': '2020-10-24', 'price': 'US$ 569.99'}, {'date': '2020-10-26', 'price': 'US$ 569.99'}, {'date': '2020-10-28', 'price': 'US$ 569.99'}, {'date': '2020-10-31', 'price': 'US$ 569.99'}, {'date': '2020-11-01', 'price': 'US$ 849.99'}, {'date': '2020-11-02', 'price': 'US$ 589.99'}, {'date': '2020-11-04', 'price': 'US$ 589.99'}, {'date': '2020-11-05', 'price': 'US$ 589.99'}, {'date': '2020-11-07', 'price': 'US$ 649.99'}, {'date': '2020-11-08', 'price': 'US$ 849.99'}, {'date': '2020-11-09', 'price': 'US$ 589.99'}, {'date': '2020-11-11', 'price': 'US$ 589.99'}, {'date': '2020-11-12', 'price': 'US$ 849.99'}, {'date': '2020-11-14', 'price': 'US$ 649.99'}, {'date': '2020-11-15', 'price': 'US$ 849.99'}, {'date': '2020-11-16', 'price': 'US$ 589.99'}, {'date': '2020-11-18', 'price': 'US$ 589.99'}, {'date': '2020-11-19', 'price': 'US$ 849.99'}, {'date': '2020-11-21', 'price': 'US$ 649.99'}, {'date': '2020-11-22', 'price': 'US$ 849.99'}, {'date': '2020-11-23', 'price': 'US$ 589.99'}, {'date': '2020-11-25', 'price': 'US$ 589.99'}, {'date': '2020-11-26', 'price': 'US$ 879.99'}, {'date': '2020-11-28', 'price': 'US$ 649.99'}, {'date': '2020-11-29', 'price': 'US$ 979.99'}, {'date': '2020-11-30', 'price': 'US$ 589.99'}, {'date': '2020-12-02', 'price': 'US$ 589.99'}, {'date': '2020-12-03', 'price': 'US$ 919.99'}, {'date': '2020-12-05', 'price': 'US$ 649.99'}, {'date': '2020-12-06', 'price': 'US$ 879.99'}, {'date': '2020-12-07', 'price': 'US$ 589.99'}, {'date': '2020-12-09', 'price': 'US$ 589.99'}, {'date': '2020-12-10', 'price': 'US$ 879.99'}, {'date': '2020-12-12', 'price': 'US$ 829.99'}, {'date': '2020-12-13', 'price': 'US$ 849.99'}, {'date': '2020-12-14', 'price': 'US$ 769.99'}, {'date': '2020-12-16', 'price': 'US$ 769.99'}, {'date': '2020-12-17', 'price': 'US$ 879.99'}, {'date': '2020-12-19', 'price': 'US$ 929.99'}, {'date': '2020-12-20', 'price': 'US$ 1099.99'}, {'date': '2020-12-21', 'price': 'US$ 989.99'}, {'date': '2021-1-02', 'price': 'US$ 829.99'}, {'date': '2021-1-03', 'price': 'US$ 969.99'}, {'date': '2021-1-04', 'price': 'US$ 769.99'}, {'date': '2021-1-06', 'price': 'US$ 769.99'}, {'date': '2021-1-07', 'price': 'US$ 849.99'}, {'date': '2021-1-09', 'price': 'US$ 829.99'}, {'date': '2021-1-10', 'price': 'US$ 969.99'}, {'date': '2021-1-11', 'price': 'US$ 649.99'}, {'date': '2021-1-13', 'price': 'US$ 649.99'}, {'date': '2021-1-16', 'price': 'US$ 709.99'}, {'date': '2021-1-17', 'price': 'US$ 849.99'}, {'date': '2021-1-18', 'price': 'US$ 589.99'}, {'date': '2021-1-20', 'price': 'US$ 589.99'}, {'date': '2021-1-21', 'price': 'US$ 849.99'}, {'date': '2021-1-23', 'price': 'US$ 649.99'}, {'date': '2021-1-24', 'price': 'US$ 849.99'}, {'date': '2021-1-25', 'price': 'US$ 589.99'}, {'date': '2021-1-27', 'price': 'US$ 589.99'}, {'date': '2021-1-28', 'price': 'US$ 879.99'}, {'date': '2021-1-30', 'price': 'US$ 649.99'}, {'date': '2021-1-31', 'price': 'US$ 849.99'}, {'date': '2021-2-01', 'price': 'US$ 589.99'}, {'date': '2021-2-03', 'price': 'US$ 589.99'}, {'date': '2021-2-04', 'price': 'US$ 849.99'}, {'date': '2021-2-06', 'price': 'US$ 649.99'}, {'date': '2021-2-07', 'price': 'US$ 849.99'}, {'date': '2021-2-08', 'price': 'US$ 589.99'}, {'date': '2021-2-10', 'price': 'US$ 589.99'}, {'date': '2021-2-11', 'price': 'US$ 979.99'}, {'date': '2021-2-13', 'price': 'US$ 649.99'}, {'date': '2021-2-14', 'price': 'US$ 919.99'}, {'date': '2021-2-15', 'price': 'US$ 589.99'}, {'date': '2021-2-17', 'price': 'US$ 589.99'}, {'date': '2021-2-18', 'price': 'US$ 879.99'}, {'date': '2021-2-20', 'price': 'US$ 649.99'}, {'date': '2021-2-21', 'price': 'US$ 849.99'}, {'date': '2021-2-22', 'price': 'US$ 589.99'}, {'date': '2021-2-24', 'price': 'US$ 589.99'}, {'date': '2021-2-25', 'price': 'US$ 919.99'}, {'date': '2021-2-27', 'price': 'US$ 649.99'}, {'date': '2021-2-28', 'price': 'US$ 879.99'}, {'date': '2021-3-01', 'price': 'US$ 589.99'}, {'date': '2021-3-03', 'price': 'US$ 589.99'}, {'date': '2021-3-04', 'price': 'US$ 979.99'}, {'date': '2021-3-06', 'price': 'US$ 649.99'}, {'date': '2021-3-07', 'price': 'US$ 919.99'}, {'date': '2021-3-08', 'price': 'US$ 589.99'}, {'date': '2021-3-10', 'price': 'US$ 589.99'}, {'date': '2021-3-11', 'price': 'US$ 979.99'}, {'date': '2021-3-13', 'price': 'US$ 709.99'}, {'date': '2021-3-14', 'price': 'US$ 879.99'}, {'date': '2021-3-15', 'price': 'US$ 649.99'}, {'date': '2021-3-17', 'price': 'US$ 649.99'}, {'date': '2021-3-18', 'price': 'US$ 979.99'}, {'date': '2021-3-20', 'price': 'US$ 709.99'}, {'date': '2021-3-21', 'price': 'US$ 919.99'}, {'date': '2021-3-22', 'price': 'US$ 649.99'}, {'date': '2021-3-24', 'price': 'US$ 649.99'}, {'date': '2021-3-25', 'price': 'US$ 919.99'}, {'date': '2021-3-27', 'price': 'US$ 709.99'}, {'date': '2021-3-28', 'price': 'US$ 919.99'}, {'date': '2021-3-29', 'price': 'US$ 649.99'}, {'date': '2021-3-31', 'price': 'US$ 649.99'}, {'date': '2021-4-01', 'price': 'US$ 1039.99'}, {'date': '2021-4-03', 'price': 'US$ 829.99'}, {'date': '2021-4-04', 'price': 'US$ 1099.99'}, {'date': '2021-4-05', 'price': 'US$ 649.99'}, {'date': '2021-4-07', 'price': 'US$ 649.99'}, {'date': '2021-4-08', 'price': 'US$ 1039.99'}, {'date': '2021-4-10', 'price': 'US$ 829.99'}, {'date': '2021-4-11', 'price': 'US$ 999.99'}, {'date': '2021-4-12', 'price': 'US$ 649.99'}, {'date': '2021-4-14', 'price': 'US$ 649.99'}, {'date': '2021-4-15', 'price': 'US$ 1039.99'}, {'date': '2021-4-17', 'price': 'US$ 709.99'}, {'date': '2021-4-18', 'price': 'US$ 999.99'}, {'date': '2021-4-19', 'price': 'US$ 649.99'}, {'date': '2021-4-21', 'price': 'US$ 649.99'}, {'date': '2021-4-22', 'price': 'US$ 1039.99'}, {'date': '2021-4-24', 'price': 'US$ 709.99'}, {'date': '2021-4-25', 'price': 'US$ 999.99'}, {'date': '2021-4-26', 'price': 'US$ 649.99'}, {'date': '2021-4-28', 'price': 'US$ 649.99'}, {'date': '2021-4-29', 'price': 'US$ 1039.99'}], 'arrival_prices': [{'date': '2020-10-03', 'price': 'US$ 569.99'}, {'date': '2020-10-05', 'price': 'US$ 569.99'}, {'date': '2020-10-07', 'price': 'US$ 569.99'}, {'date': '2020-10-10', 'price': 'US$ 569.99'}, {'date': '2020-10-12', 'price': 'US$ 569.99'}, {'date': '2020-10-14', 'price': 'US$ 569.99'}, {'date': '2020-10-17', 'price': 'US$ 569.99'}, {'date': '2020-10-19', 'price': 'US$ 569.99'}, {'date': '2020-10-21', 'price': 'US$ 569.99'}, {'date': '2020-10-24', 'price': 'US$ 569.99'}, {'date': '2020-10-26', 'price': 'US$ 569.99'}, {'date': '2020-10-28', 'price': 'US$ 569.99'}, {'date': '2020-10-31', 'price': 'US$ 569.99'}, {'date': '2020-11-01', 'price': 'US$ 849.99'}, {'date': '2020-11-02', 'price': 'US$ 589.99'}, {'date': '2020-11-04', 'price': 'US$ 589.99'}, {'date': '2020-11-05', 'price': 'US$ 849.99'}, {'date': '2020-11-07', 'price': 'US$ 649.99'}, {'date': '2020-11-08', 'price': 'US$ 849.99'}, {'date': '2020-11-09', 'price': 'US$ 589.99'}, {'date': '2020-11-11', 'price': 'US$ 589.99'}, {'date': '2020-11-12', 'price': 'US$ 849.99'}, {'date': '2020-11-14', 'price': 'US$ 649.99'}, {'date': '2020-11-15', 'price': 'US$ 849.99'}, {'date': '2020-11-16', 'price': 'US$ 589.99'}, {'date': '2020-11-18', 'price': 'US$ 589.99'}, {'date': '2020-11-19', 'price': 'US$ 849.99'}, {'date': '2020-11-21', 'price': 'US$ 649.99'}, {'date': '2020-11-22', 'price': 'US$ 849.99'}, {'date': '2020-11-23', 'price': 'US$ 589.99'}, {'date': '2020-11-25', 'price': 'US$ 589.99'}, {'date': '2020-11-26', 'price': 'US$ 879.99'}, {'date': '2020-11-28', 'price': 'US$ 649.99'}, {'date': '2020-11-29', 'price': 'US$ 979.99'}, {'date': '2020-11-30', 'price': 'US$ 589.99'}, {'date': '2020-12-02', 'price': 'US$ 589.99'}, {'date': '2020-12-03', 'price': 'US$ 919.99'}, {'date': '2020-12-05', 'price': 'US$ 649.99'}, {'date': '2020-12-06', 'price': 'US$ 879.99'}, {'date': '2020-12-07', 'price': 'US$ 589.99'}, {'date': '2020-12-09', 'price': 'US$ 589.99'}, {'date': '2020-12-10', 'price': 'US$ 879.99'}, {'date': '2020-12-12', 'price': 'US$ 829.99'}, {'date': '2020-12-13', 'price': 'US$ 849.99'}, {'date': '2020-12-14', 'price': 'US$ 769.99'}, {'date': '2020-12-16', 'price': 'US$ 769.99'}, {'date': '2020-12-17', 'price': 'US$ 879.99'}, {'date': '2020-12-19', 'price': 'US$ 929.99'}, {'date': '2020-12-20', 'price': 'US$ 1099.99'}, {'date': '2020-12-21', 'price': 'US$ 989.99'}, {'date': '2021-1-02', 'price': 'US$ 829.99'}, {'date': '2021-1-03', 'price': 'US$ 969.99'}, {'date': '2021-1-04', 'price': 'US$ 769.99'}, {'date': '2021-1-06', 'price': 'US$ 769.99'}, {'date': '2021-1-07', 'price': 'US$ 849.99'}, {'date': '2021-1-09', 'price': 'US$ 829.99'}, {'date': '2021-1-10', 'price': 'US$ 969.99'}, {'date': '2021-1-11', 'price': 'US$ 649.99'}, {'date': '2021-1-13', 'price': 'US$ 649.99'}, {'date': '2021-1-16', 'price': 'US$ 709.99'}, {'date': '2021-1-17', 'price': 'US$ 849.99'}, {'date': '2021-1-18', 'price': 'US$ 589.99'}, {'date': '2021-1-20', 'price': 'US$ 589.99'}, {'date': '2021-1-21', 'price': 'US$ 849.99'}, {'date': '2021-1-23', 'price': 'US$ 649.99'}, {'date': '2021-1-24', 'price': 'US$ 849.99'}, {'date': '2021-1-25', 'price': 'US$ 589.99'}, {'date': '2021-1-27', 'price': 'US$ 589.99'}, {'date': '2021-1-28', 'price': 'US$ 879.99'}, {'date': '2021-1-30', 'price': 'US$ 649.99'}, {'date': '2021-1-31', 'price': 'US$ 849.99'}, {'date': '2021-2-01', 'price': 'US$ 589.99'}, {'date': '2021-2-03', 'price': 'US$ 589.99'}, {'date': '2021-2-04', 'price': 'US$ 849.99'}, {'date': '2021-2-06', 'price': 'US$ 649.99'}, {'date': '2021-2-07', 'price': 'US$ 849.99'}, {'date': '2021-2-08', 'price': 'US$ 589.99'}, {'date': '2021-2-10', 'price': 'US$ 589.99'}, {'date': '2021-2-11', 'price': 'US$ 979.99'}, {'date': '2021-2-13', 'price': 'US$ 649.99'}, {'date': '2021-2-14', 'price': 'US$ 919.99'}, {'date': '2021-2-15', 'price': 'US$ 589.99'}, {'date': '2021-2-17', 'price': 'US$ 589.99'}, {'date': '2021-2-18', 'price': 'US$ 879.99'}, {'date': '2021-2-20', 'price': 'US$ 649.99'}, {'date': '2021-2-21', 'price': 'US$ 849.99'}, {'date': '2021-2-22', 'price': 'US$ 589.99'}, {'date': '2021-2-24', 'price': 'US$ 589.99'}, {'date': '2021-2-25', 'price': 'US$ 919.99'}, {'date': '2021-2-27', 'price': 'US$ 649.99'}, {'date': '2021-2-28', 'price': 'US$ 879.99'}, {'date': '2021-3-01', 'price': 'US$ 589.99'}, {'date': '2021-3-03', 'price': 'US$ 589.99'}, {'date': '2021-3-04', 'price': 'US$ 979.99'}, {'date': '2021-3-06', 'price': 'US$ 649.99'}, {'date': '2021-3-07', 'price': 'US$ 919.99'}, {'date': '2021-3-08', 'price': 'US$ 589.99'}, {'date': '2021-3-10', 'price': 'US$ 589.99'}, {'date': '2021-3-11', 'price': 'US$ 979.99'}, {'date': '2021-3-13', 'price': 'US$ 709.99'}, {'date': '2021-3-14', 'price': 'US$ 879.99'}, {'date': '2021-3-15', 'price': 'US$ 649.99'}, {'date': '2021-3-17', 'price': 'US$ 649.99'}, {'date': '2021-3-18', 'price': 'US$ 979.99'}, {'date': '2021-3-20', 'price': 'US$ 709.99'}, {'date': '2021-3-21', 'price': 'US$ 919.99'}, {'date': '2021-3-22', 'price': 'US$ 649.99'}, {'date': '2021-3-24', 'price': 'US$ 649.99'}, {'date': '2021-3-25', 'price': 'US$ 919.99'}, {'date': '2021-3-27', 'price': 'US$ 709.99'}, {'date': '2021-3-28', 'price': 'US$ 919.99'}, {'date': '2021-3-29', 'price': 'US$ 649.99'}, {'date': '2021-3-31', 'price': 'US$ 649.99'}, {'date': '2021-4-01', 'price': 'US$ 1039.99'}, {'date': '2021-4-03', 'price': 'US$ 829.99'}, {'date': '2021-4-04', 'price': 'US$ 1099.99'}, {'date': '2021-4-05', 'price': 'US$ 649.99'}, {'date': '2021-4-07', 'price': 'US$ 649.99'}, {'date': '2021-4-08', 'price': 'US$ 1039.99'}, {'date': '2021-4-10', 'price': 'US$ 829.99'}, {'date': '2021-4-11', 'price': 'US$ 999.99'}, {'date': '2021-4-12', 'price': 'US$ 649.99'}, {'date': '2021-4-14', 'price': 'US$ 649.99'}, {'date': '2021-4-15', 'price': 'US$ 1039.99'}, {'date': '2021-4-17', 'price': 'US$ 709.99'}, {'date': '2021-4-18', 'price': 'US$ 999.99'}, {'date': '2021-4-19', 'price': 'US$ 649.99'}, {'date': '2021-4-21', 'price': 'US$ 649.99'}, {'date': '2021-4-22', 'price': 'US$ 1039.99'}, {'date': '2021-4-24', 'price': 'US$ 709.99'}, {'date': '2021-4-25', 'price': 'US$ 999.99'}, {'date': '2021-4-26', 'price': 'US$ 649.99'}, {'date': '2021-4-28', 'price': 'US$ 649.99'}, {'date': '2021-4-29', 'price': 'US$ 1039.99'}], 'search_id': 30, 'message': ''}"
   ]
  },
  {
   "cell_type": "code",
   "execution_count": null,
   "metadata": {},
   "outputs": [],
   "source": [
    "pd.fakedata['departure_prices'][]"
   ]
  },
  {
   "cell_type": "code",
   "execution_count": null,
   "metadata": {},
   "outputs": [],
   "source": [
    "for date in fakedata['departure_prices']:\n",
    "    print(date['date'])"
   ]
  },
  {
   "cell_type": "code",
   "execution_count": null,
   "metadata": {},
   "outputs": [],
   "source": [
    "for date in fakedata['arrival_prices']:\n",
    "    print(date['date'])"
   ]
  },
  {
   "cell_type": "code",
   "execution_count": null,
   "metadata": {},
   "outputs": [],
   "source": [
    "date_from = '2020-11-16'\n",
    "date_to = '2020-12-20'\n",
    "from_ticket = 0\n",
    "return_ticket = 0\n",
    "duration = 5\n",
    "total = from_ticket + return_ticket"
   ]
  },
  {
   "cell_type": "code",
   "execution_count": null,
   "metadata": {},
   "outputs": [],
   "source": [
    "for ticket_info in fakedata['departure_prices']:\n",
    "    if ticket_info['date'] == date_from:\n",
    "        departure_ticket = ticket_info['price']\n",
    "        print('the price is: ', ticket_info['price'])    "
   ]
  },
  {
   "cell_type": "code",
   "execution_count": null,
   "metadata": {},
   "outputs": [],
   "source": [
    "for ticket_info in fakedata['arrival_prices']:\n",
    "    if ticket_info['date'] == date_to:   \n",
    "        return_ticket = ticket_info['price']\n",
    "        print('the price is: ', ticket_info['price'])"
   ]
  },
  {
   "cell_type": "code",
   "execution_count": null,
   "metadata": {},
   "outputs": [],
   "source": [
    "total = Decimal(departure_ticket.split(' ')[1]) + Decimal(return_ticket.split(' ')[1])\n",
    "print('the toal price is:',total)"
   ]
  },
  {
   "cell_type": "code",
   "execution_count": 3,
   "metadata": {},
   "outputs": [
    {
     "name": "stdout",
     "output_type": "stream",
     "text": [
      "exact_date_from_price US$ 849.99\n",
      "exact_date_return_price US$ 849.99\n",
      "The cheapest departure price is US$ 1099.99 on 2020-12-20\n",
      "The cheapest arrival price is US$ 1099.99 on 2020-12-20\n"
     ]
    }
   ],
   "source": [
    "from_date = '2020-11-01'\n",
    "to_date = '2020-12-29'\n",
    "departures_prices = []\n",
    "arrival_prices = []\n",
    "\n",
    "def cheapest_flight(from_date, to_date):\n",
    "    \n",
    "    for ticket_info in fakedata['departure_prices']:\n",
    "        if ticket_info['date'] >= from_date and ticket_info['date'] <= to_date:\n",
    "#             print(ticket_info['price'])\n",
    "#             ticket_info['price'] = Decimal(ticket_info['price'].split(' ')[1])\n",
    "            \n",
    "            if ticket_info['date'] == from_date:\n",
    "                exact_date_from_price = ticket_info['price']\n",
    "                print('exact_date_from_price', exact_date_from_price)\n",
    "            departures_prices.append(ticket_info)\n",
    "\n",
    "    cheapest_departure = departures_prices[0]['price']\n",
    "    for price in departures_prices:\n",
    "        if price['price'] < cheapest_departure:\n",
    "            cheapest_departure = price['price']\n",
    "    \n",
    "    for ticket_info in fakedata['arrival_prices']:\n",
    "        if ticket_info['date'] >= from_date and ticket_info['date'] <= to_date:\n",
    "#             ticket_info['price'] = Decimal(ticket_info['price'].split(' ')[1])\n",
    "            if ticket_info['date'] == from_date:\n",
    "                exact_date_return_price = ticket_info['price']\n",
    "                print('exact_date_return_price', exact_date_return_price)\n",
    "            arrival_prices.append(ticket_info)\n",
    "    \n",
    "    cheapest_arrival = arrival_prices[0]['price']\n",
    "    for price in arrival_prices:\n",
    "        if price['price'] < cheapest_arrival:\n",
    "            cheapest_arrival = price['price']\n",
    "            \n",
    "    \n",
    "        \n",
    "    for price in departures_prices:\n",
    "        \n",
    "        if price['price'] <= cheapest_departure:\n",
    "            cheapest_departure = price['price']\n",
    "            cheapest_date = price['date']\n",
    "            print(f'The cheapest departure price is {cheapest_departure} on {cheapest_date}')\n",
    "\n",
    "    for price in arrival_prices:\n",
    "        if price['price'] <= cheapest_arrival:\n",
    "            cheapest_arrival = price['price']\n",
    "            cheapest_date = price['date']\n",
    "            print(f'The cheapest arrival price is {cheapest_arrival} on {cheapest_date}')\n",
    "\n",
    "\n",
    "cheapest_flight(from_date, to_date)"
   ]
  },
  {
   "cell_type": "code",
   "execution_count": 9,
   "metadata": {},
   "outputs": [
    {
     "name": "stdout",
     "output_type": "stream",
     "text": [
      "2020-01-09 00:10:00\n"
     ]
    }
   ],
   "source": [
    "from datetime import datetime as dt\n",
    "date = '2020-10-09'\n",
    "date2 = '2020-11-20'\n",
    "count = 10\n",
    "a = dt.strptime(date, \"%Y-%M-%d\")\n",
    "b = dt.strptime(date2, \"%Y-%M-%d\")\n",
    "#print(a + count)\n",
    "print(a)\n",
    "#from_date = datetime.datetime(2020, 11, 10)\n",
    "#print(from_date)"
   ]
  },
  {
   "cell_type": "code",
   "execution_count": null,
   "metadata": {},
   "outputs": [],
   "source": [
    "from datetime import datetime, timedelta\n",
    "date_from = '2020-11-01'\n",
    "date_to = '2020-12-31'\n",
    "duration = 10\n",
    "\n",
    "def cheapest_with_duration(date_from, duration):\n",
    "    formatted_date_from = dt.strptime(date_from, \"%Y-%m-%d\")\n",
    "    date_to = formatted_date_from + timedelta(days = duration)\n",
    "    formatted_date_to = str(date_to).split(' ')[0]\n",
    "    cheapest_departure = 5000.00\n",
    "    cheapest_arrival = 5000.00\n",
    "    \n",
    "    \n",
    "    while formatted_date_to <= date_to:\n",
    "        \n",
    "        for ticket_info in fakedata['departure_prices']:\n",
    "            if ticket_info['date'] >= date_from and ticket_info['date'] <= to_date:\n",
    "                departures_prices.append(ticket_info)\n",
    "        \n",
    "        for ticket_info in fakedata['arrival_prices']:\n",
    "            if ticket_info['date'] >= from_date and ticket_info['date'] <= formatted_date_to:\n",
    "                if ticket_info['date'] == from_date:\n",
    "                    exact_date_return_price = Decimal(ticket_info['price'].split(' ')[1])\n",
    "                    print('exact_date_return_price', exact_date_return_price)\n",
    "                arrival_prices.append(ticket_info)\n",
    "\n",
    "        for price in departures_prices:\n",
    "            if Decimal(price['price'].split(' ')[1]) <= cheapest_departure:\n",
    "                cheapest_departure = Decimal(price['price'].split(' ')[1])\n",
    "                cheapest_date = price['date']\n",
    "        print(f'The cheapest departure price is {cheapest_departure} on {cheapest_date}')\n",
    "\n",
    "        for price in arrival_prices:\n",
    "            if Decimal(price['price'].split(' ')[1]) <= cheapest_arrival:\n",
    "                cheapest_arrival = Decimal(price['price'].split(' ')[1])\n",
    "                cheapest_date = price['date']\n",
    "\n",
    "        print(f'The cheapest arrival price is {cheapest_arrival} on {cheapest_date}')\n",
    "\n",
    "cheapest_with_duration(date_from, duration)\n"
   ]
  }
 ],
 "metadata": {
  "kernelspec": {
   "display_name": "Python 3",
   "language": "python",
   "name": "python3"
  },
  "language_info": {
   "codemirror_mode": {
    "name": "ipython",
    "version": 3
   },
   "file_extension": ".py",
   "mimetype": "text/x-python",
   "name": "python",
   "nbconvert_exporter": "python",
   "pygments_lexer": "ipython3",
   "version": "3.8.2"
  }
 },
 "nbformat": 4,
 "nbformat_minor": 4
}
